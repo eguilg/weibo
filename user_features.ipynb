{
 "cells": [
  {
   "cell_type": "code",
   "execution_count": 1,
   "metadata": {
    "collapsed": true
   },
   "outputs": [
    {
     "name": "stdout",
     "output_type": "stream",
     "text": [
      "Populating the interactive namespace from numpy and matplotlib\n"
     ]
    },
    {
     "name": "stdout",
     "output_type": "stream",
     "text": [
      "读取源微博...\n读取转发..."
     ]
    },
    {
     "name": "stdout",
     "output_type": "stream",
     "text": [
      "\n"
     ]
    }
   ],
   "source": [
    "import numpy as np\n",
    "import pandas as pd\n",
    "import matplotlib.pyplot as plt\n",
    "%pylab inline\n",
    "import seaborn as sns\n",
    "\n",
    "base_path = 'F:\\Study\\weiboPredict\\data'\n",
    "\n",
    "\n",
    "print('读取源微博...')\n",
    "origin = pd.read_csv(base_path + '\\\\samples\\\\origin_train_tt.csv',\n",
    "                     index_col='w_id',\n",
    "                     sep='\\001',\n",
    "                     encoding='utf-8',\n",
    "                     quoting=3)\n",
    "print('读取转发...')\n",
    "repo = pd.read_csv(base_path + '\\\\samples\\\\repo_train_tt.csv',\n",
    "                   sep='\\001',\n",
    "                   encoding='utf-8',\n",
    "                   quoting=3).fillna(value='', axis=1)\n",
    "\n",
    "# 只取datetime中的time\n",
    "origin.time = [t.time() for t in pd.to_datetime(origin.time)]"
   ]
  },
  {
   "cell_type": "code",
   "execution_count": 37,
   "metadata": {},
   "outputs": [],
   "source": [
    "n_fans = {}\n",
    "n_follows = {}\n",
    "path = 'F:\\\\Study\\\\weiboPredict\\\\data\\\\adjlist.csv'\n",
    "\n",
    "with open(path,encoding='utf-8') as f:\n",
    "    for line in f:\n",
    "        try:\n",
    "            line = list(map(int,line.replace('\\n','').split(',')))\n",
    "            if not line[0] in n_follows:\n",
    "                n_follows[line[0]] = len(line)-1\n",
    "            for u in line[1:]:\n",
    "                if u in n_fans:\n",
    "                    n_fans[u] += 1\n",
    "                else:\n",
    "                    n_fans[u] = 1\n",
    "        except ValueError :\n",
    "            a=1"
   ]
  },
  {
   "cell_type": "code",
   "execution_count": 48,
   "metadata": {},
   "outputs": [],
   "source": [
    "n_fans = pd.Series(n_fans)"
   ]
  },
  {
   "cell_type": "code",
   "execution_count": 49,
   "metadata": {},
   "outputs": [
    {
     "data": {
      "text/plain": [
       "count    6.261994e+06\nmean     1.118549e+02\nstd      5.196419e+03\nmin      1.000000e+00\n25%      2.000000e+00\n50%      6.000000e+00\n75%      1.700000e+01\nmax      2.719365e+06\ndtype: float64"
      ]
     },
     "execution_count": 49,
     "metadata": {},
     "output_type": "execute_result"
    }
   ],
   "source": [
    "n_fans.describe()"
   ]
  },
  {
   "cell_type": "code",
   "execution_count": 50,
   "metadata": {},
   "outputs": [
    {
     "data": {
      "text/plain": [
       "count    7.934568e+06\nmean     8.827631e+01\nstd      9.119573e+01\nmin      1.000000e+00\n25%      3.300000e+01\n50%      6.200000e+01\n75%      1.120000e+02\nmax      3.072000e+03\ndtype: float64"
      ]
     },
     "execution_count": 50,
     "metadata": {},
     "output_type": "execute_result"
    }
   ],
   "source": [
    "n_follows = pd.Series(n_follows)\n",
    "n_follows.describe()"
   ]
  },
  {
   "cell_type": "code",
   "execution_count": 54,
   "metadata": {},
   "outputs": [],
   "source": [
    "user_info = pd.DataFrame({'n_fans':n_fans,'n_follows':n_follows}).fillna(value=0, axis=1)"
   ]
  },
  {
   "cell_type": "code",
   "execution_count": 57,
   "metadata": {
    "collapsed": false
   },
   "outputs": [
    {
     "data": {
      "text/html": [
       "<div>\n",
       "<table border=\"1\" class=\"dataframe\">\n",
       "  <thead>\n",
       "    <tr style=\"text-align: right;\">\n",
       "      <th></th>\n",
       "      <th>n_fans</th>\n",
       "      <th>n_follows</th>\n",
       "    </tr>\n",
       "  </thead>\n",
       "  <tbody>\n",
       "    <tr>\n",
       "      <th>count</th>\n",
       "      <td>7.977942e+06</td>\n",
       "      <td>7.977942e+06</td>\n",
       "    </tr>\n",
       "    <tr>\n",
       "      <th>mean</th>\n",
       "      <td>8.779638e+01</td>\n",
       "      <td>8.779638e+01</td>\n",
       "    </tr>\n",
       "    <tr>\n",
       "      <th>std</th>\n",
       "      <td>4.604014e+03</td>\n",
       "      <td>9.117885e+01</td>\n",
       "    </tr>\n",
       "    <tr>\n",
       "      <th>min</th>\n",
       "      <td>0.000000e+00</td>\n",
       "      <td>0.000000e+00</td>\n",
       "    </tr>\n",
       "    <tr>\n",
       "      <th>25%</th>\n",
       "      <td>1.000000e+00</td>\n",
       "      <td>3.200000e+01</td>\n",
       "    </tr>\n",
       "    <tr>\n",
       "      <th>50%</th>\n",
       "      <td>3.000000e+00</td>\n",
       "      <td>6.100000e+01</td>\n",
       "    </tr>\n",
       "    <tr>\n",
       "      <th>75%</th>\n",
       "      <td>1.200000e+01</td>\n",
       "      <td>1.120000e+02</td>\n",
       "    </tr>\n",
       "    <tr>\n",
       "      <th>max</th>\n",
       "      <td>2.719365e+06</td>\n",
       "      <td>3.072000e+03</td>\n",
       "    </tr>\n",
       "  </tbody>\n",
       "</table>\n",
       "</div>"
      ],
      "text/plain": [
       "<div>\n",
       "<table border=\"1\" class=\"dataframe\">\n",
       "  <thead>\n",
       "    <tr style=\"text-align: right;\">\n",
       "      <th></th>\n",
       "      <th>n_fans</th>\n",
       "      <th>n_follows</th>\n",
       "    </tr>\n",
       "  </thead>\n",
       "  <tbody>\n",
       "    <tr>\n",
       "      <th>count</th>\n",
       "      <td>7.977942e+06</td>\n",
       "      <td>7.977942e+06</td>\n",
       "    </tr>\n",
       "    <tr>\n",
       "      <th>mean</th>\n",
       "      <td>8.779638e+01</td>\n",
       "      <td>8.779638e+01</td>\n",
       "    </tr>\n",
       "    <tr>\n",
       "      <th>std</th>\n",
       "      <td>4.604014e+03</td>\n",
       "      <td>9.117885e+01</td>\n",
       "    </tr>\n",
       "    <tr>\n",
       "      <th>min</th>\n",
       "      <td>0.000000e+00</td>\n",
       "      <td>0.000000e+00</td>\n",
       "    </tr>\n",
       "    <tr>\n",
       "      <th>25%</th>\n",
       "      <td>1.000000e+00</td>\n",
       "      <td>3.200000e+01</td>\n",
       "    </tr>\n",
       "    <tr>\n",
       "      <th>50%</th>\n",
       "      <td>3.000000e+00</td>\n",
       "      <td>6.100000e+01</td>\n",
       "    </tr>\n",
       "    <tr>\n",
       "      <th>75%</th>\n",
       "      <td>1.200000e+01</td>\n",
       "      <td>1.120000e+02</td>\n",
       "    </tr>\n",
       "    <tr>\n",
       "      <th>max</th>\n",
       "      <td>2.719365e+06</td>\n",
       "      <td>3.072000e+03</td>\n",
       "    </tr>\n",
       "  </tbody>\n",
       "</table>\n",
       "</div>"
      ]
     },
     "execution_count": 57,
     "metadata": {},
     "output_type": "execute_result"
    }
   ],
   "source": [
    "user_info.n_fans = user_info.n_fans.astype(int)\n",
    "user_info.n_follows = user_info.n_follows.astype(int)\n",
    "user_info.describe()"
   ]
  },
  {
   "cell_type": "code",
   "execution_count": 58,
   "metadata": {},
   "outputs": [],
   "source": [
    "user_info.to_csv(base_path+'\\\\user_info.csv',\n",
    "                sep='\\001',\n",
    "                index_label='u_id',\n",
    "                encoding='utf-8',\n",
    "                quoting=3)"
   ]
  },
  {
   "cell_type": "code",
   "execution_count": 3,
   "metadata": {},
   "outputs": [],
   "source": [
    "user_info = pd.read_csv(base_path+'\\\\user_info.csv',\n",
    "                sep='\\001',\n",
    "                index_col='u_id',\n",
    "                encoding='utf-8',\n",
    "                quoting=3)"
   ]
  },
  {
   "cell_type": "code",
   "execution_count": 30,
   "metadata": {},
   "outputs": [
    {
     "data": {
      "text/plain": [
       "<matplotlib.collections.PathCollection at 0x1e083685358>"
      ]
     },
     "execution_count": 30,
     "metadata": {},
     "output_type": "execute_result"
    },
    {
     "data": {
      "image/png": "[encoded data removed]",
      "text/plain": [
       "<matplotlib.figure.Figure at 0x1e083697320>"
      ]
     },
     "metadata": {},
     "output_type": "display_data"
    }
   ],
   "source": [
    "plt.clf()\n",
    "plt.scatter(user_info.n_follows,user_info.n_fans,marker = 'x')"
   ]
  },
  {
   "cell_type": "code",
   "execution_count": null,
   "metadata": {},
   "outputs": [],
   "source": [
    ""
   ]
  }
 ],
 "metadata": {
  "kernelspec": {
   "display_name": "Python 2",
   "language": "python",
   "name": "python2"
  },
  "language_info": {
   "codemirror_mode": {
    "name": "ipython",
    "version": 2.0
   },
   "file_extension": ".py",
   "mimetype": "text/x-python",
   "name": "python",
   "nbconvert_exporter": "python",
   "pygments_lexer": "ipython2",
   "version": "2.7.6"
  }
 },
 "nbformat": 4,
 "nbformat_minor": 0
}